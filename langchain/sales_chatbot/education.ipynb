{
 "cells": [
  {
   "cell_type": "markdown",
   "id": "69032b4b-b031-4020-beb0-e8dfd22b660e",
   "metadata": {},
   "source": [
    "# LangChain 实战：房产销售聊天机器人"
   ]
  },
  {
   "cell_type": "markdown",
   "id": "0f3e2d5a-c2ff-4faf-b153-d1751c25fae0",
   "metadata": {},
   "source": [
    "## 使用 GPT-4 构造销售话术数据\n",
    "\n",
    "ChatGPT 分享链接：https://chat.openai.com/share/f3e4b9b0-95fb-4c6a-a3c7-f901dd194c91\n",
    "\n",
    "\n",
    "使用 ChatGPT 构造销售数据的 Prompt 示例：\n",
    "\n",
    "```\n",
    "你是中国顶级的房地产销售，现在培训职场新人，请给出100条实用的销售话术。\n",
    "\n",
    "每条销售话术以如下格式给出：\n",
    "[客户问题]\n",
    "[销售回答]\n",
    "\n",
    "```\n",
    "\n",
    "GPT-4 回复结果：\n",
    "\n",
    "```\n",
    "在房地产销售行业中，精心准备的销售话术可以极大地提高成交率。以下是一些适用于中国房地产销售的实用话术：\n",
    "\n",
    "1.  \n",
    "[客户问题] 这个小区交通便利吗？\n",
    "[销售回答] 当然了，这个小区距离地铁站只有几分钟的步行距离，而且附近有多条公交线路，非常方便。\n",
    "\n",
    "2.  \n",
    "[客户问题] 我担心楼下太吵。\n",
    "[销售回答] 这个小区特别注重居住体验，我们有良好的隔音设计，并且小区内部规划了绿化区域，可以有效降低噪音。\n",
    "\n",
    "3.  \n",
    "[客户问题] 我看房价还在涨，这个投资回报怎么样？\n",
    "[销售回答] 这个区域未来有大量的商业和基础设施建设，所以从长期来看，投资回报非常有保证。\n",
    "\n",
    "4.  \n",
    "[客户问题] 有没有学校？\n",
    "[销售回答] 附近有多所优质的学校，非常适合有孩子的家庭。\n",
    "\n",
    "5.  \n",
    "[客户问题] 物业管理怎么样？\n",
    "[销售回答] 我们的物业管理得到了业主一致好评，服务非常到位。\n",
    "\n",
    "6.  \n",
    "[客户问题] 我想要南向的房子。\n",
    "[销售回答] 很好，我们确实有一些朝南的单位，它们的采光特别好。\n",
    "\n",
    "7.  \n",
    "[客户问题] 这个小区安全吗？\n",
    "[销售回答] 当然，我们24小时安保巡逻，还有先进的监控系统。\n",
    "\n",
    "8.  \n",
    "[客户问题] 预计什么时候交房？\n",
    "[销售回答] 根据目前的进度，我们预计将在明年底交房。\n",
    "\n",
    "9.  \n",
    "[客户问题] 我不想要一楼的房子。\n",
    "[销售回答] 我理解您的顾虑，我们还有多个楼层的房源可以选择。\n",
    "\n",
    "10.  \n",
    "[客户问题] 有优惠吗？\n",
    "[销售回答] 当然，如果您现在下订，我们可以给您一些优惠。\n",
    "```\n",
    "\n",
    "\n",
    "## 使用 Document Transformers 模块来处理原始数据\n",
    "\n",
    "\n",
    "将 ChatGPT 生成的结果保存到 [real_estate_sales_data.txt](real_estate_sales_data.txt) 文件中"
   ]
  },
  {
   "cell_type": "code",
   "execution_count": 1,
   "id": "efcee928-b9f4-4e4a-b9fb-f6cbee21b642",
   "metadata": {},
   "outputs": [],
   "source": [
    "with open(\"education_middle_highschool_data.txt\") as f:\n",
    "    real_estate_sales = f.read()"
   ]
  },
  {
   "cell_type": "markdown",
   "id": "a9119556-d2e3-4edf-be16-15837da156f1",
   "metadata": {},
   "source": [
    "### 使用 CharacterTextSplitter 来进行文本分割\n",
    "\n",
    "- 基于单字符来进行文本分割（separator）\n",
    "- 基于字符数来决定文本块长度（chunk_size）\n",
    "\n",
    "参考示例：\n",
    "\n",
    "```python\n",
    "from langchain.text_splitter import CharacterTextSplitter\n",
    "text_splitter = CharacterTextSplitter(        \n",
    "    separator = \"\\n\\n\",\n",
    "    chunk_size = 1000,\n",
    "    chunk_overlap  = 200,\n",
    "    length_function = len,\n",
    "    is_separator_regex = False,\n",
    ")\n",
    "```\n"
   ]
  },
  {
   "cell_type": "code",
   "execution_count": 2,
   "id": "dbe535b8-2bd8-4c31-91d7-eba8aa61b3ef",
   "metadata": {},
   "outputs": [],
   "source": [
    "from langchain.text_splitter import CharacterTextSplitter"
   ]
  },
  {
   "cell_type": "code",
   "execution_count": 3,
   "id": "a4f30d9b-9fc6-4860-a497-0aa8220b9284",
   "metadata": {},
   "outputs": [],
   "source": [
    "text_splitter = CharacterTextSplitter(        \n",
    "    separator = r'\\d+\\.',\n",
    "    chunk_size = 100,\n",
    "    chunk_overlap  = 0,\n",
    "    length_function = len,\n",
    "    is_separator_regex = True,\n",
    ")"
   ]
  },
  {
   "cell_type": "code",
   "execution_count": 4,
   "id": "530f3172-17a5-4924-ad17-284fbca422ae",
   "metadata": {},
   "outputs": [
    {
     "name": "stderr",
     "output_type": "stream",
     "text": [
      "Created a chunk of size 162, which is longer than the specified 100\n",
      "Created a chunk of size 200, which is longer than the specified 100\n",
      "Created a chunk of size 183, which is longer than the specified 100\n",
      "Created a chunk of size 204, which is longer than the specified 100\n",
      "Created a chunk of size 210, which is longer than the specified 100\n",
      "Created a chunk of size 167, which is longer than the specified 100\n",
      "Created a chunk of size 189, which is longer than the specified 100\n",
      "Created a chunk of size 185, which is longer than the specified 100\n",
      "Created a chunk of size 169, which is longer than the specified 100\n",
      "Created a chunk of size 191, which is longer than the specified 100\n",
      "Created a chunk of size 218, which is longer than the specified 100\n",
      "Created a chunk of size 184, which is longer than the specified 100\n",
      "Created a chunk of size 183, which is longer than the specified 100\n",
      "Created a chunk of size 174, which is longer than the specified 100\n",
      "Created a chunk of size 197, which is longer than the specified 100\n",
      "Created a chunk of size 201, which is longer than the specified 100\n",
      "Created a chunk of size 189, which is longer than the specified 100\n",
      "Created a chunk of size 206, which is longer than the specified 100\n",
      "Created a chunk of size 204, which is longer than the specified 100\n",
      "Created a chunk of size 197, which is longer than the specified 100\n",
      "Created a chunk of size 200, which is longer than the specified 100\n",
      "Created a chunk of size 214, which is longer than the specified 100\n",
      "Created a chunk of size 181, which is longer than the specified 100\n",
      "Created a chunk of size 198, which is longer than the specified 100\n",
      "Created a chunk of size 200, which is longer than the specified 100\n",
      "Created a chunk of size 203, which is longer than the specified 100\n",
      "Created a chunk of size 195, which is longer than the specified 100\n",
      "Created a chunk of size 192, which is longer than the specified 100\n",
      "Created a chunk of size 177, which is longer than the specified 100\n",
      "Created a chunk of size 198, which is longer than the specified 100\n",
      "Created a chunk of size 211, which is longer than the specified 100\n",
      "Created a chunk of size 201, which is longer than the specified 100\n",
      "Created a chunk of size 203, which is longer than the specified 100\n",
      "Created a chunk of size 211, which is longer than the specified 100\n"
     ]
    }
   ],
   "source": [
    "docs = text_splitter.create_documents([real_estate_sales])"
   ]
  },
  {
   "cell_type": "code",
   "execution_count": 5,
   "id": "3956ec36-706e-4f43-88fc-d704f2984290",
   "metadata": {},
   "outputs": [
    {
     "data": {
      "text/plain": [
       "Document(page_content='如何提高孩子的学习兴趣？\\n\\n[家长问题] 我的孩子对学习没有兴趣，应该怎么办？\\n[专家回答] 提高学习兴趣可以从寻找孩子的兴趣点开始，然后将这些兴趣点与学科内容相结合。同时，家长的积极参与和鼓励也非常重要。可以设定短期和长期的目标，让孩子感受到学习的成就感。此外，参加一些与学习内容相关的活动或比赛，也能增加学习的乐趣。')"
      ]
     },
     "execution_count": 5,
     "metadata": {},
     "output_type": "execute_result"
    }
   ],
   "source": [
    "docs[0]"
   ]
  },
  {
   "cell_type": "code",
   "execution_count": 6,
   "id": "73b2d47a-27ae-4cd4-a72a-3809b4c22bff",
   "metadata": {},
   "outputs": [
    {
     "data": {
      "text/plain": [
       "35"
      ]
     },
     "execution_count": 6,
     "metadata": {},
     "output_type": "execute_result"
    }
   ],
   "source": [
    "len(docs)"
   ]
  },
  {
   "cell_type": "markdown",
   "id": "e4617858-ad9c-42eb-a4c3-6bfb7108cdd2",
   "metadata": {},
   "source": [
    "### 使用 Faiss 作为向量数据库，持久化存储房产销售 问答对（QA-Pair）"
   ]
  },
  {
   "cell_type": "code",
   "execution_count": 7,
   "id": "508c2ab2-e187-424f-a43c-ca3d3b1a0550",
   "metadata": {},
   "outputs": [
    {
     "name": "stderr",
     "output_type": "stream",
     "text": [
      "/home/parallels/miniconda3/envs/langchain/lib/python3.10/site-packages/langchain_core/_api/deprecation.py:119: LangChainDeprecationWarning: The class `OpenAIEmbeddings` was deprecated in LangChain 0.0.9 and will be removed in 0.2.0. An updated version of the class exists in the langchain-openai package and should be used instead. To use it run `pip install -U langchain-openai` and import as `from langchain_openai import OpenAIEmbeddings`.\n",
      "  warn_deprecated(\n"
     ]
    }
   ],
   "source": [
    "from langchain.embeddings.openai import OpenAIEmbeddings\n",
    "from langchain.text_splitter import CharacterTextSplitter\n",
    "from langchain.vectorstores import FAISS\n",
    "\n",
    "db = FAISS.from_documents(docs, OpenAIEmbeddings())"
   ]
  },
  {
   "cell_type": "code",
   "execution_count": 8,
   "id": "250e0873-95e2-4372-98a5-68c0feb304bb",
   "metadata": {},
   "outputs": [],
   "source": [
    "query = \"孩子不爱学习怎么办？\""
   ]
  },
  {
   "cell_type": "code",
   "execution_count": 9,
   "id": "0d18fcc6-c2be-434b-b8de-9648ac6f83f4",
   "metadata": {},
   "outputs": [],
   "source": [
    "answer_list = db.similarity_search(query)"
   ]
  },
  {
   "cell_type": "code",
   "execution_count": 10,
   "id": "e689667e-7a45-40d6-9eae-4e52cbc7daab",
   "metadata": {},
   "outputs": [
    {
     "name": "stdout",
     "output_type": "stream",
     "text": [
      "孩子厌学怎么办？\n",
      "\n",
      "[家长问题] 最近孩子对学校表现出明显的厌学情绪，我该怎么办？\n",
      "[专家回答] 面对孩子的厌学情绪，重要的是找出背后的原因。与孩子进行耐心的对话，了解他们的感受和遇到的困难。可能的原因包括学习压力、人际关系问题或对学习内容的不感兴趣。根据具体情况，考虑调整学习计划，减少压力，或是寻求学校老师和心理辅导老师的帮助。同时，鼓励孩子参加自己感兴趣的课外活动，增加学校生活的乐趣。\n",
      "\n",
      "如何提高孩子的学习兴趣？\n",
      "\n",
      "[家长问题] 我的孩子对学习没有兴趣，应该怎么办？\n",
      "[专家回答] 提高学习兴趣可以从寻找孩子的兴趣点开始，然后将这些兴趣点与学科内容相结合。同时，家长的积极参与和鼓励也非常重要。可以设定短期和长期的目标，让孩子感受到学习的成就感。此外，参加一些与学习内容相关的活动或比赛，也能增加学习的乐趣。\n",
      "\n",
      "孩子对特定学科不感兴趣，怎样激发他们的兴趣？\n",
      "\n",
      "[家长问题] 我的孩子对数学一点都不感兴趣，这怎么能激发他对数学的兴趣？\n",
      "[专家回答] 激发孩子对特定学科的兴趣，可以尝试将学科内容与孩子的兴趣爱好相结合，寻找实际生活中与数学相关的有趣应用，如游戏、体育统计或者艺术设计等。同时，可以寻找寓教于乐的教学资源，比如数学游戏、视频或者互动软件，使学习变得更加生动有趣。鼓励孩子参与数学竞赛或项目，以实践和挑战的方式增加他们的兴趣。\n",
      "\n",
      "孩子总是抱怨学校生活无聊，我该怎么办？\n",
      "\n",
      "[家长问题] 孩子对学校生活感到厌倦，总是说无聊，如何激发他的兴趣？\n",
      "[专家回答] 对抗学校生活的乏味感，可以鼓励孩子参与学校的课外活动或社团，这不仅能够拓展他们的兴趣爱好，还能帮助他们建立友谊和社交技能。与孩子一起探索他们的兴趣，看看是否可以在学校找到相关的活动或课程。同时，鼓励孩子设立个人目标，如学习新技能或提高成绩，以增加学校生活的目的感。\n",
      "\n"
     ]
    }
   ],
   "source": [
    "for ans in answer_list:\n",
    "    print(ans.page_content + \"\\n\")"
   ]
  },
  {
   "cell_type": "code",
   "execution_count": 11,
   "id": "a6cc47bf-1566-472f-84d2-a46bd634907c",
   "metadata": {},
   "outputs": [],
   "source": [
    "db.save_local(\"education_middle_high_school\")"
   ]
  },
  {
   "cell_type": "markdown",
   "id": "0d5323e5-03fa-4c1c-b896-3ccc28af1857",
   "metadata": {},
   "source": [
    "### 使用 retriever 从向量数据库中获取结果\n",
    "\n",
    "#### 使用参数 `k` 指定返回结果数量\n"
   ]
  },
  {
   "cell_type": "code",
   "execution_count": 12,
   "id": "17f051c9-8676-48d1-a9a4-e69b52630faf",
   "metadata": {},
   "outputs": [],
   "source": [
    "# 实例化一个 TopK Retriever\n",
    "topK_retriever = db.as_retriever(search_kwargs={\"k\": 3})"
   ]
  },
  {
   "cell_type": "code",
   "execution_count": 13,
   "id": "e33024db-ca7b-4d68-9b0e-c31c15ded57d",
   "metadata": {},
   "outputs": [
    {
     "data": {
      "text/plain": [
       "VectorStoreRetriever(tags=['FAISS', 'OpenAIEmbeddings'], vectorstore=<langchain_community.vectorstores.faiss.FAISS object at 0x744ffea0a1a0>, search_kwargs={'k': 3})"
      ]
     },
     "execution_count": 13,
     "metadata": {},
     "output_type": "execute_result"
    }
   ],
   "source": [
    "topK_retriever"
   ]
  },
  {
   "cell_type": "code",
   "execution_count": 14,
   "id": "7efb1414-859f-4818-bacd-e1e2edf34b95",
   "metadata": {},
   "outputs": [
    {
     "name": "stdout",
     "output_type": "stream",
     "text": [
      "孩子厌学怎么办？\n",
      "\n",
      "[家长问题] 最近孩子对学校表现出明显的厌学情绪，我该怎么办？\n",
      "[专家回答] 面对孩子的厌学情绪，重要的是找出背后的原因。与孩子进行耐心的对话，了解他们的感受和遇到的困难。可能的原因包括学习压力、人际关系问题或对学习内容的不感兴趣。根据具体情况，考虑调整学习计划，减少压力，或是寻求学校老师和心理辅导老师的帮助。同时，鼓励孩子参加自己感兴趣的课外活动，增加学校生活的乐趣。\n",
      "\n",
      "如何提高孩子的学习兴趣？\n",
      "\n",
      "[家长问题] 我的孩子对学习没有兴趣，应该怎么办？\n",
      "[专家回答] 提高学习兴趣可以从寻找孩子的兴趣点开始，然后将这些兴趣点与学科内容相结合。同时，家长的积极参与和鼓励也非常重要。可以设定短期和长期的目标，让孩子感受到学习的成就感。此外，参加一些与学习内容相关的活动或比赛，也能增加学习的乐趣。\n",
      "\n",
      "孩子对特定学科不感兴趣，怎样激发他们的兴趣？\n",
      "\n",
      "[家长问题] 我的孩子对数学一点都不感兴趣，这怎么能激发他对数学的兴趣？\n",
      "[专家回答] 激发孩子对特定学科的兴趣，可以尝试将学科内容与孩子的兴趣爱好相结合，寻找实际生活中与数学相关的有趣应用，如游戏、体育统计或者艺术设计等。同时，可以寻找寓教于乐的教学资源，比如数学游戏、视频或者互动软件，使学习变得更加生动有趣。鼓励孩子参与数学竞赛或项目，以实践和挑战的方式增加他们的兴趣。\n",
      "\n"
     ]
    }
   ],
   "source": [
    "docs = topK_retriever.get_relevant_documents(query)\n",
    "for doc in docs:\n",
    "    print(doc.page_content + \"\\n\")"
   ]
  },
  {
   "cell_type": "code",
   "execution_count": 15,
   "id": "a3c4b62d-6f8f-461b-a4fb-41c8a404b831",
   "metadata": {},
   "outputs": [],
   "source": [
    "docs = topK_retriever.get_relevant_documents(\"Where your favorite song?\")"
   ]
  },
  {
   "cell_type": "code",
   "execution_count": 16,
   "id": "04cca3d7-23d9-491f-8350-faeb19861dec",
   "metadata": {},
   "outputs": [
    {
     "name": "stdout",
     "output_type": "stream",
     "text": [
      "孩子对特定学科不感兴趣，怎样激发他们的兴趣？\n",
      "\n",
      "[家长问题] 我的孩子对数学一点都不感兴趣，这怎么能激发他对数学的兴趣？\n",
      "[专家回答] 激发孩子对特定学科的兴趣，可以尝试将学科内容与孩子的兴趣爱好相结合，寻找实际生活中与数学相关的有趣应用，如游戏、体育统计或者艺术设计等。同时，可以寻找寓教于乐的教学资源，比如数学游戏、视频或者互动软件，使学习变得更加生动有趣。鼓励孩子参与数学竞赛或项目，以实践和挑战的方式增加他们的兴趣。\n",
      "\n",
      "如何提高孩子的学习兴趣？\n",
      "\n",
      "[家长问题] 我的孩子对学习没有兴趣，应该怎么办？\n",
      "[专家回答] 提高学习兴趣可以从寻找孩子的兴趣点开始，然后将这些兴趣点与学科内容相结合。同时，家长的积极参与和鼓励也非常重要。可以设定短期和长期的目标，让孩子感受到学习的成就感。此外，参加一些与学习内容相关的活动或比赛，也能增加学习的乐趣。\n",
      "\n",
      "孩子总是抱怨学校生活无聊，我该怎么办？\n",
      "\n",
      "[家长问题] 孩子对学校生活感到厌倦，总是说无聊，如何激发他的兴趣？\n",
      "[专家回答] 对抗学校生活的乏味感，可以鼓励孩子参与学校的课外活动或社团，这不仅能够拓展他们的兴趣爱好，还能帮助他们建立友谊和社交技能。与孩子一起探索他们的兴趣，看看是否可以在学校找到相关的活动或课程。同时，鼓励孩子设立个人目标，如学习新技能或提高成绩，以增加学校生活的目的感。\n",
      "\n"
     ]
    }
   ],
   "source": [
    "for doc in docs:\n",
    "    print(doc.page_content + \"\\n\")"
   ]
  },
  {
   "cell_type": "markdown",
   "id": "b335c9e5-bc01-4a47-916c-03bec0e7a839",
   "metadata": {},
   "source": [
    "#### 使用 similarity_score_threshold 设置阈值，提升结果的相关性质量"
   ]
  },
  {
   "cell_type": "code",
   "execution_count": 17,
   "id": "b1298956-6cf3-4a68-a3c2-a3149f64f156",
   "metadata": {},
   "outputs": [],
   "source": [
    "# 实例化一个 similarity_score_threshold Retriever\n",
    "retriever = db.as_retriever(\n",
    "    search_type=\"similarity_score_threshold\",\n",
    "    search_kwargs={\"score_threshold\": 0.8}\n",
    ")"
   ]
  },
  {
   "cell_type": "code",
   "execution_count": 18,
   "id": "d61167de-72ed-4618-a2e1-5df04784a3bc",
   "metadata": {},
   "outputs": [
    {
     "name": "stdout",
     "output_type": "stream",
     "text": [
      "孩子厌学怎么办？\n",
      "\n",
      "[家长问题] 最近孩子对学校表现出明显的厌学情绪，我该怎么办？\n",
      "[专家回答] 面对孩子的厌学情绪，重要的是找出背后的原因。与孩子进行耐心的对话，了解他们的感受和遇到的困难。可能的原因包括学习压力、人际关系问题或对学习内容的不感兴趣。根据具体情况，考虑调整学习计划，减少压力，或是寻求学校老师和心理辅导老师的帮助。同时，鼓励孩子参加自己感兴趣的课外活动，增加学校生活的乐趣。\n",
      "\n",
      "如何提高孩子的学习兴趣？\n",
      "\n",
      "[家长问题] 我的孩子对学习没有兴趣，应该怎么办？\n",
      "[专家回答] 提高学习兴趣可以从寻找孩子的兴趣点开始，然后将这些兴趣点与学科内容相结合。同时，家长的积极参与和鼓励也非常重要。可以设定短期和长期的目标，让孩子感受到学习的成就感。此外，参加一些与学习内容相关的活动或比赛，也能增加学习的乐趣。\n",
      "\n",
      "孩子对特定学科不感兴趣，怎样激发他们的兴趣？\n",
      "\n",
      "[家长问题] 我的孩子对数学一点都不感兴趣，这怎么能激发他对数学的兴趣？\n",
      "[专家回答] 激发孩子对特定学科的兴趣，可以尝试将学科内容与孩子的兴趣爱好相结合，寻找实际生活中与数学相关的有趣应用，如游戏、体育统计或者艺术设计等。同时，可以寻找寓教于乐的教学资源，比如数学游戏、视频或者互动软件，使学习变得更加生动有趣。鼓励孩子参与数学竞赛或项目，以实践和挑战的方式增加他们的兴趣。\n",
      "\n",
      "孩子总是抱怨学校生活无聊，我该怎么办？\n",
      "\n",
      "[家长问题] 孩子对学校生活感到厌倦，总是说无聊，如何激发他的兴趣？\n",
      "[专家回答] 对抗学校生活的乏味感，可以鼓励孩子参与学校的课外活动或社团，这不仅能够拓展他们的兴趣爱好，还能帮助他们建立友谊和社交技能。与孩子一起探索他们的兴趣，看看是否可以在学校找到相关的活动或课程。同时，鼓励孩子设立个人目标，如学习新技能或提高成绩，以增加学校生活的目的感。\n",
      "\n"
     ]
    }
   ],
   "source": [
    "docs = retriever.get_relevant_documents(query)\n",
    "for doc in docs:\n",
    "    print(doc.page_content + \"\\n\")"
   ]
  },
  {
   "cell_type": "code",
   "execution_count": null,
   "id": "548d1b52-6fa2-46d6-9218-908db572f380",
   "metadata": {},
   "outputs": [],
   "source": []
  },
  {
   "cell_type": "markdown",
   "id": "c31344ce-f952-4604-b700-fdbb34da1e28",
   "metadata": {},
   "source": [
    "### 提取向量数据库中的`销售回答`"
   ]
  },
  {
   "cell_type": "code",
   "execution_count": 19,
   "id": "25768463-da65-4762-978d-51c0c3a9c24b",
   "metadata": {},
   "outputs": [],
   "source": [
    "docs = retriever.get_relevant_documents(query)"
   ]
  },
  {
   "cell_type": "code",
   "execution_count": 20,
   "id": "4838d3da-dca3-4c31-80da-cec75760a833",
   "metadata": {},
   "outputs": [
    {
     "data": {
      "text/plain": [
       "'孩子厌学怎么办？\\n\\n[家长问题] 最近孩子对学校表现出明显的厌学情绪，我该怎么办？\\n[专家回答] 面对孩子的厌学情绪，重要的是找出背后的原因。与孩子进行耐心的对话，了解他们的感受和遇到的困难。可能的原因包括学习压力、人际关系问题或对学习内容的不感兴趣。根据具体情况，考虑调整学习计划，减少压力，或是寻求学校老师和心理辅导老师的帮助。同时，鼓励孩子参加自己感兴趣的课外活动，增加学校生活的乐趣。'"
      ]
     },
     "execution_count": 20,
     "metadata": {},
     "output_type": "execute_result"
    }
   ],
   "source": [
    "docs[0].page_content"
   ]
  },
  {
   "cell_type": "code",
   "execution_count": 21,
   "id": "1ba30232-f468-4102-b70c-02c8b74da43d",
   "metadata": {},
   "outputs": [
    {
     "data": {
      "text/plain": [
       "['孩子厌学怎么办？\\n\\n[家长问题] 最近孩子对学校表现出明显的厌学情绪，我该怎么办？\\n',\n",
       " '面对孩子的厌学情绪，重要的是找出背后的原因。与孩子进行耐心的对话，了解他们的感受和遇到的困难。可能的原因包括学习压力、人际关系问题或对学习内容的不感兴趣。根据具体情况，考虑调整学习计划，减少压力，或是寻求学校老师和心理辅导老师的帮助。同时，鼓励孩子参加自己感兴趣的课外活动，增加学校生活的乐趣。']"
      ]
     },
     "execution_count": 21,
     "metadata": {},
     "output_type": "execute_result"
    }
   ],
   "source": [
    "docs[0].page_content.split(\"[专家回答] \")"
   ]
  },
  {
   "cell_type": "code",
   "execution_count": 22,
   "id": "bda8eb0c-eb1f-47b2-91ab-4c94ff71c3db",
   "metadata": {},
   "outputs": [],
   "source": [
    "ans = docs[0].page_content.split(\"[专家回答] \")[-1]"
   ]
  },
  {
   "cell_type": "code",
   "execution_count": 23,
   "id": "917a3b6c-3149-42e2-b7b6-abebd94b7f72",
   "metadata": {},
   "outputs": [
    {
     "data": {
      "text/plain": [
       "'面对孩子的厌学情绪，重要的是找出背后的原因。与孩子进行耐心的对话，了解他们的感受和遇到的困难。可能的原因包括学习压力、人际关系问题或对学习内容的不感兴趣。根据具体情况，考虑调整学习计划，减少压力，或是寻求学校老师和心理辅导老师的帮助。同时，鼓励孩子参加自己感兴趣的课外活动，增加学校生活的乐趣。'"
      ]
     },
     "execution_count": 23,
     "metadata": {},
     "output_type": "execute_result"
    }
   ],
   "source": [
    "ans"
   ]
  },
  {
   "cell_type": "markdown",
   "id": "b36b61a5-156d-4546-bbd1-8a983e94676b",
   "metadata": {},
   "source": [
    "#### 尝试各种问题"
   ]
  },
  {
   "cell_type": "code",
   "execution_count": 24,
   "id": "c311a656-e571-45d6-8690-88e4be2c2a65",
   "metadata": {},
   "outputs": [],
   "source": [
    "from typing import List\n",
    "\n",
    "def sales(query: str, score_threshold: float=0.8) -> List[str]:\n",
    "    retriever = db.as_retriever(search_type=\"similarity_score_threshold\", search_kwargs={\"score_threshold\": score_threshold})    \n",
    "    docs = retriever.get_relevant_documents(query)\n",
    "    ans_list = [doc.page_content.split(\"[专家回答] \")[-1] for doc in docs]\n",
    "\n",
    "    return ans_list"
   ]
  },
  {
   "cell_type": "code",
   "execution_count": 25,
   "id": "2f4c6c08-b97c-4727-9aa1-a474d85a11e4",
   "metadata": {},
   "outputs": [
    {
     "name": "stdout",
     "output_type": "stream",
     "text": [
      "['面对校园霸凌，首要任务是确保孩子的安全和情绪支持。与孩子进行开放且支持性的对话，鼓励他们分享自己的感受。了解具体情况后，应及时与学校沟通，寻求学校的协助处理此事。同时，教育孩子关于自尊和边界的重要性，以及如何安全地应对潜在的霸凌行为。在必要时，寻求专业心理咨询师的帮助。']\n"
     ]
    }
   ],
   "source": [
    "query = \"孩子上学被欺负了怎么办？\"\n",
    "\n",
    "print(sales(query))"
   ]
  },
  {
   "cell_type": "code",
   "execution_count": 26,
   "id": "11e3d8b6-839f-4b2f-b519-841e0271f95b",
   "metadata": {},
   "outputs": [
    {
     "name": "stdout",
     "output_type": "stream",
     "text": [
      "['面对校园霸凌，首要任务是确保孩子的安全和情绪支持。与孩子进行开放且支持性的对话，鼓励他们分享自己的感受。了解具体情况后，应及时与学校沟通，寻求学校的协助处理此事。同时，教育孩子关于自尊和边界的重要性，以及如何安全地应对潜在的霸凌行为。在必要时，寻求专业心理咨询师的帮助。', '面对孩子的厌学情绪，重要的是找出背后的原因。与孩子进行耐心的对话，了解他们的感受和遇到的困难。可能的原因包括学习压力、人际关系问题或对学习内容的不感兴趣。根据具体情况，考虑调整学习计划，减少压力，或是寻求学校老师和心理辅导老师的帮助。同时，鼓励孩子参加自己感兴趣的课外活动，增加学校生活的乐趣。', '对抗学校生活的乏味感，可以鼓励孩子参与学校的课外活动或社团，这不仅能够拓展他们的兴趣爱好，还能帮助他们建立友谊和社交技能。与孩子一起探索他们的兴趣，看看是否可以在学校找到相关的活动或课程。同时，鼓励孩子设立个人目标，如学习新技能或提高成绩，以增加学校生活的目的感。', '处理孩子与老师之间的矛盾首先需要了解矛盾的具体情况。与孩子进行开放式的对话，了解孩子的感受和具体事情。同时，也可以适当与老师沟通，尝试从老师的角度理解情况。在这个过程中，重要的是保持中立，既不盲目站在孩子一边，也不完全否定孩子的感受。引导孩子学习如何从不同角度看问题，并教会他们适当的解决冲突的方法。']\n"
     ]
    }
   ],
   "source": [
    "print(sales(query, 0.75))"
   ]
  },
  {
   "cell_type": "code",
   "execution_count": 27,
   "id": "fc5b030a-ae6f-4d42-9577-1420c78aecb1",
   "metadata": {},
   "outputs": [
    {
     "name": "stderr",
     "output_type": "stream",
     "text": [
      "/home/parallels/miniconda3/envs/langchain/lib/python3.10/site-packages/langchain_core/vectorstores.py:342: UserWarning: No relevant docs were retrieved using the relevance score threshold 0.8\n",
      "  warnings.warn(\n"
     ]
    },
    {
     "name": "stdout",
     "output_type": "stream",
     "text": [
      "score:0.8 ans: []\n",
      "\n"
     ]
    },
    {
     "name": "stderr",
     "output_type": "stream",
     "text": [
      "/home/parallels/miniconda3/envs/langchain/lib/python3.10/site-packages/langchain_core/vectorstores.py:342: UserWarning: No relevant docs were retrieved using the relevance score threshold 0.75\n",
      "  warnings.warn(\n"
     ]
    },
    {
     "name": "stdout",
     "output_type": "stream",
     "text": [
      "score:0.75 ans: []\n",
      "\n",
      "score:0.5 ans: ['面对孩子的厌学情绪，重要的是找出背后的原因。与孩子进行耐心的对话，了解他们的感受和遇到的困难。可能的原因包括学习压力、人际关系问题或对学习内容的不感兴趣。根据具体情况，考虑调整学习计划，减少压力，或是寻求学校老师和心理辅导老师的帮助。同时，鼓励孩子参加自己感兴趣的课外活动，增加学校生活的乐趣。', '孩子在不同环境下的表现差异可能是因为社交压力、适应环境的不同方式或是期望值的差异。与孩子进行开放和支持性的对话，了解他们在学校的感受和经历。与学校老师保持沟通，了解孩子在学校的行为和表现。提供一个安全和支持的环境，鼓励孩子表达自己的感受和担忧，共同探索解决方式。', '对抗学校生活的乏味感，可以鼓励孩子参与学校的课外活动或社团，这不仅能够拓展他们的兴趣爱好，还能帮助他们建立友谊和社交技能。与孩子一起探索他们的兴趣，看看是否可以在学校找到相关的活动或课程。同时，鼓励孩子设立个人目标，如学习新技能或提高成绩，以增加学校生活的目的感。', '面对高中生活的焦虑，重要的是与孩子进行开放和支持性的对话，了解他们的具体担忧。鼓励他们表达自己的感受，并提供安慰和理解。可以一起探讨和制定应对策略，比如参加学校组织的新生活动，提前熟悉校园环境，或是与未来的同学建立联系。提醒孩子每个人都会经历适应期，而且他们不是孤单一人。']\n",
      "\n"
     ]
    }
   ],
   "source": [
    "query = \"买学区房那么贵，值得吗？\"\n",
    "\n",
    "print(f\"score:0.8 ans: {sales(query)}\\n\")\n",
    "print(f\"score:0.75 ans: {sales(query, 0.75)}\\n\")\n",
    "print(f\"score:0.5 ans: {sales(query, 0.5)}\\n\")"
   ]
  },
  {
   "cell_type": "markdown",
   "id": "9e26e6d7-259b-4ecf-9c72-027befba4e3b",
   "metadata": {},
   "source": [
    "#### 当向量数据库中没有合适答案时，使用大语言模型能力"
   ]
  },
  {
   "cell_type": "code",
   "execution_count": 28,
   "id": "9142feb4-980a-4142-b367-1401021dceef",
   "metadata": {},
   "outputs": [],
   "source": [
    "from langchain.chains import RetrievalQA\n",
    "from langchain_openai import ChatOpenAI\n",
    "\n",
    "llm = ChatOpenAI(model_name=\"gpt-4-1106-preview\", temperature=0.5)\n",
    "qa_chain = RetrievalQA.from_chain_type(llm,\n",
    "                                       retriever=db.as_retriever(search_type=\"similarity_score_threshold\",\n",
    "                                                                 search_kwargs={\"score_threshold\": 0.8}))"
   ]
  },
  {
   "cell_type": "code",
   "execution_count": 29,
   "id": "d281b560-54bb-4a25-a1dc-b23874361654",
   "metadata": {},
   "outputs": [
    {
     "name": "stderr",
     "output_type": "stream",
     "text": [
      "/home/parallels/miniconda3/envs/langchain/lib/python3.10/site-packages/langchain_core/_api/deprecation.py:119: LangChainDeprecationWarning: The method `Chain.__call__` was deprecated in langchain 0.1.0 and will be removed in 0.2.0. Use invoke instead.\n",
      "  warn_deprecated(\n",
      "/home/parallels/miniconda3/envs/langchain/lib/python3.10/site-packages/langchain_core/vectorstores.py:342: UserWarning: No relevant docs were retrieved using the relevance score threshold 0.8\n",
      "  warnings.warn(\n"
     ]
    },
    {
     "data": {
      "text/plain": [
       "{'query': '为什么一定要买学区房？',\n",
       " 'result': '买学区房主要是因为在很多国家和地区，公立学校的入学往往与学生的居住地挂钩。学区房指的是那些位于优质公立学校（尤其是小学和中学）划定的招生范围内的住宅。以下是几个主要原因，为什么人们会选择买学区房：\\n\\n1. 教育资源：优质的学区通常意味着那里的学校有着更好的教育资源，包括有资历的教师、良好的学术氛围、丰富的课外活动等。\\n\\n2. 孩子教育：家长通常希望给孩子最好的教育，而入读一个好学校是很多家长认为可以提供高质量教育的方式。\\n\\n3. 房产价值：学区房通常保值和升值的潜力较大。即使家长不考虑孩子教育的因素，作为一种投资，学区房也往往是一个不错的选择。\\n\\n4. 社区环境：优质学区的周边环境通常也比较好，治安、绿化、公共设施等方面可能都更有保障。\\n\\n5. 稳定性：一旦购买了学区房，如果政策不变，家长可以相对放心孩子的教育问题，减少了因搬家等原因导致的学校变动。\\n\\n然而，学区房也有其不足之处，比如价格通常较高，可能会给家庭经济带来压力。此外，过分追求学区房也可能导致资源分配不均，加剧社会分层。因此，是否购买学区房需要根据个人的实际情况和价值判断来决定。'}"
      ]
     },
     "execution_count": 29,
     "metadata": {},
     "output_type": "execute_result"
    }
   ],
   "source": [
    "qa_chain({\"query\": \"为什么一定要买学区房？\"})"
   ]
  },
  {
   "cell_type": "code",
   "execution_count": 30,
   "id": "c6a30dcc-fa6b-4282-935c-b07902746e19",
   "metadata": {},
   "outputs": [
    {
     "data": {
      "text/plain": [
       "{'query': '孩子不好好学习怎么办？',\n",
       " 'result': '面对孩子不好好学习的问题，可以采取以下几个策略：\\n\\n1. 了解原因：首先与孩子进行耐心的对话，了解他们不愿意学习的具体原因，可能是学习压力、人际关系问题、对学习内容的不感兴趣等。\\n\\n2. 调整学习计划：根据孩子的实际情况，调整学习计划，安排合理的学习时间和休息时间，减少学习压力。\\n\\n3. 寻求帮助：如果问题复杂，可以求助于学校老师或专业的心理辅导老师，共同寻找解决方案。\\n\\n4. 提高学习兴趣：尝试将孩子的兴趣与学习内容结合，设定短期和长期目标，让孩子感受到学习的成就感。\\n\\n5. 家长支持：家长应该提供一个积极的家庭环境，给予孩子足够的支持和鼓励，避免因成绩问题对孩子产生负面影响。\\n\\n6. 鼓励课外活动：鼓励孩子参加自己感兴趣的课外活动，这不仅能增加学习以外的乐趣，也有助于培养孩子的综合能力。\\n\\n记得在处理这些问题时保持耐心和理解，避免过于严厉的批评，这样可以帮助孩子重建对学习的积极态度。'}"
      ]
     },
     "execution_count": 30,
     "metadata": {},
     "output_type": "execute_result"
    }
   ],
   "source": [
    "qa_chain({\"query\": \"孩子不好好学习怎么办？\"})"
   ]
  },
  {
   "cell_type": "code",
   "execution_count": null,
   "id": "e649536b-91f7-407c-af55-33dad135ef7c",
   "metadata": {},
   "outputs": [],
   "source": []
  },
  {
   "cell_type": "code",
   "execution_count": 31,
   "id": "9da44bd6-02ef-4fb6-8e9e-7c99aeba483a",
   "metadata": {},
   "outputs": [
    {
     "name": "stdout",
     "output_type": "stream",
     "text": [
      "['面对孩子的厌学情绪，重要的是找出背后的原因。与孩子进行耐心的对话，了解他们的感受和遇到的困难。可能的原因包括学习压力、人际关系问题或对学习内容的不感兴趣。根据具体情况，考虑调整学习计划，减少压力，或是寻求学校老师和心理辅导老师的帮助。同时，鼓励孩子参加自己感兴趣的课外活动，增加学校生活的乐趣。', '首先，与孩子进行开放和支持性的对话，尝试了解成绩下滑的原因，是否是学习方法不当、学习压力太大，或是其他生活方面的干扰。根据问题的具体情况，制定相应的对策，比如调整学习计划、提供额外的辅导或是改善生活习惯。同时，重要的是保持耐心，给予孩子足够的支持和鼓励，避免施加过多压力。', '提高学习兴趣可以从寻找孩子的兴趣点开始，然后将这些兴趣点与学科内容相结合。同时，家长的积极参与和鼓励也非常重要。可以设定短期和长期的目标，让孩子感受到学习的成就感。此外，参加一些与学习内容相关的活动或比赛，也能增加学习的乐趣。', '提高数学成绩首先需要弄清楚孩子在数学学习中遇到的具体问题。可以和孩子一起复习错题，找出错误的原因，是概念不理解还是计算错误。鼓励孩子多做练习，特别是基础题型的训练，以加强对基本概念的理解和运用。如果需要，也可以考虑请家教或参加补习班。']\n"
     ]
    }
   ],
   "source": [
    "print(sales(\"孩子不好好学习怎么办？\"))"
   ]
  },
  {
   "cell_type": "code",
   "execution_count": null,
   "id": "9764bb10-44ed-47c9-a351-a68f4f7d4f44",
   "metadata": {},
   "outputs": [],
   "source": []
  },
  {
   "cell_type": "markdown",
   "id": "0a0647e8-5b41-4c93-87c2-3240ec558717",
   "metadata": {},
   "source": [
    "## 加载 FAISS 向量数据库已有结果"
   ]
  },
  {
   "cell_type": "code",
   "execution_count": 32,
   "id": "913edd04-37ea-4c3f-9346-086aeb0ab447",
   "metadata": {},
   "outputs": [],
   "source": [
    "from langchain_openai import OpenAIEmbeddings\n",
    "from langchain.vectorstores import FAISS\n",
    "\n",
    "db = FAISS.load_local(\"education_middle_high_school\", OpenAIEmbeddings(), allow_dangerous_deserialization=True)"
   ]
  },
  {
   "cell_type": "code",
   "execution_count": 33,
   "id": "77d8eee4-6383-4b4a-9737-95ea9fc53b87",
   "metadata": {},
   "outputs": [
    {
     "name": "stderr",
     "output_type": "stream",
     "text": [
      "/home/parallels/miniconda3/envs/langchain/lib/python3.10/site-packages/langchain_core/_api/deprecation.py:119: LangChainDeprecationWarning: The class `ChatOpenAI` was deprecated in LangChain 0.0.10 and will be removed in 0.2.0. An updated version of the class exists in the langchain-openai package and should be used instead. To use it run `pip install -U langchain-openai` and import as `from langchain_openai import ChatOpenAI`.\n",
      "  warn_deprecated(\n"
     ]
    }
   ],
   "source": [
    "from langchain.chains import RetrievalQA\n",
    "from langchain.chat_models import ChatOpenAI\n",
    "\n",
    "llm = ChatOpenAI(model_name=\"gpt-4\", temperature=0.5)\n",
    "qa_chain = RetrievalQA.from_chain_type(llm,\n",
    "                                       retriever=db.as_retriever(search_type=\"similarity_score_threshold\",\n",
    "                                                                 search_kwargs={\"score_threshold\": 0.8}))"
   ]
  },
  {
   "cell_type": "code",
   "execution_count": 34,
   "id": "5dfac197-cadb-47d7-8cbe-1b07a83fc8e1",
   "metadata": {},
   "outputs": [
    {
     "name": "stderr",
     "output_type": "stream",
     "text": [
      "/home/parallels/miniconda3/envs/langchain/lib/python3.10/site-packages/langchain_core/vectorstores.py:342: UserWarning: No relevant docs were retrieved using the relevance score threshold 0.8\n",
      "  warnings.warn(\n"
     ]
    },
    {
     "data": {
      "text/plain": [
       "{'query': '我希望我的孩子和班上最好的学生坐在一个桌，这样好吗？',\n",
       " 'result': '这取决于具体的情况和学校的规定。将你的孩子和班上最好的学生坐在一起可能会有一些好处，比如他们可以互相学习和激励。然而，这也可能会给你的孩子带来压力，或者让他们感到自己需要和其他学生竞争。最好的做法可能是和你的孩子以及他们的老师讨论这个问题，看看这样做是否最符合你的孩子的需求和利益。'}"
      ]
     },
     "execution_count": 34,
     "metadata": {},
     "output_type": "execute_result"
    }
   ],
   "source": [
    "qa_chain({\"query\": \"我希望我的孩子和班上最好的学生坐在一个桌，这样好吗？\"})"
   ]
  },
  {
   "cell_type": "code",
   "execution_count": 35,
   "id": "fc393afc-06d3-4483-bd24-efe000ef5f2a",
   "metadata": {},
   "outputs": [],
   "source": [
    "# 输出内部 Chain 的日志\n",
    "qa_chain.combine_documents_chain.verbose = True"
   ]
  },
  {
   "cell_type": "code",
   "execution_count": 36,
   "id": "013c313a-5e7c-48d1-8ed4-eee96e50a99c",
   "metadata": {},
   "outputs": [
    {
     "name": "stderr",
     "output_type": "stream",
     "text": [
      "/home/parallels/miniconda3/envs/langchain/lib/python3.10/site-packages/langchain_core/vectorstores.py:342: UserWarning: No relevant docs were retrieved using the relevance score threshold 0.8\n",
      "  warnings.warn(\n"
     ]
    },
    {
     "name": "stdout",
     "output_type": "stream",
     "text": [
      "\n",
      "\n",
      "\u001b[1m> Entering new StuffDocumentsChain chain...\u001b[0m\n",
      "\n",
      "\u001b[1m> Finished chain.\u001b[0m\n"
     ]
    },
    {
     "data": {
      "text/plain": [
       "{'query': '我希望我的孩子和班上最好的学生坐在一个桌，这样好吗？',\n",
       " 'result': '这主要取决于学校的规定和教师的安排。一般来说，如果这种安排不会影响到课堂秩序和其他学生的学习，那么这是可以的。然而，也要考虑到孩子的感受，如果他们感到压力过大或者不舒服，这可能不是最好的选择。最好和孩子的老师讨论这个问题，看看他们的意见。'}"
      ]
     },
     "execution_count": 36,
     "metadata": {},
     "output_type": "execute_result"
    }
   ],
   "source": [
    "qa_chain({\"query\": \"我希望我的孩子和班上最好的学生坐在一个桌，这样好吗？\"})"
   ]
  },
  {
   "cell_type": "code",
   "execution_count": 37,
   "id": "e5fb0943-ffe9-4270-8dbe-f5f5314e6042",
   "metadata": {},
   "outputs": [],
   "source": [
    "# 返回向量数据库的检索结果\n",
    "qa_chain.return_source_documents = True"
   ]
  },
  {
   "cell_type": "code",
   "execution_count": 38,
   "id": "fbc1741e-d34f-4df5-874b-02b78e8cd67a",
   "metadata": {},
   "outputs": [
    {
     "name": "stderr",
     "output_type": "stream",
     "text": [
      "/home/parallels/miniconda3/envs/langchain/lib/python3.10/site-packages/langchain_core/vectorstores.py:342: UserWarning: No relevant docs were retrieved using the relevance score threshold 0.8\n",
      "  warnings.warn(\n"
     ]
    },
    {
     "name": "stdout",
     "output_type": "stream",
     "text": [
      "\n",
      "\n",
      "\u001b[1m> Entering new StuffDocumentsChain chain...\u001b[0m\n",
      "\n",
      "\u001b[1m> Finished chain.\u001b[0m\n"
     ]
    }
   ],
   "source": [
    "result = qa_chain({\"query\": \"我希望我的孩子和班上最好的学生坐在一个桌，这样好吗？\"})"
   ]
  },
  {
   "cell_type": "code",
   "execution_count": 39,
   "id": "fac8309c-033c-4144-ada0-08e74fa9bf2d",
   "metadata": {},
   "outputs": [
    {
     "data": {
      "text/plain": [
       "{'query': '我希望我的孩子和班上最好的学生坐在一个桌，这样好吗？',\n",
       " 'result': '这完全取决于您的个人观点和学校的规定。有些人认为，这样可以激发孩子的学习动力，从优秀的学生那里学习好的习惯。但也有可能产生压力，让孩子感到不舒服。建议您和孩子以及他们的老师讨论这个问题，看看这是否是一个好主意。',\n",
       " 'source_documents': []}"
      ]
     },
     "execution_count": 39,
     "metadata": {},
     "output_type": "execute_result"
    }
   ],
   "source": [
    "result"
   ]
  },
  {
   "cell_type": "code",
   "execution_count": 40,
   "id": "e11fed4b-72fa-4df1-9078-fc79e0d8aeb2",
   "metadata": {},
   "outputs": [
    {
     "data": {
      "text/plain": [
       "'这完全取决于您的个人观点和学校的规定。有些人认为，这样可以激发孩子的学习动力，从优秀的学生那里学习好的习惯。但也有可能产生压力，让孩子感到不舒服。建议您和孩子以及他们的老师讨论这个问题，看看这是否是一个好主意。'"
      ]
     },
     "execution_count": 40,
     "metadata": {},
     "output_type": "execute_result"
    }
   ],
   "source": [
    "result['result']"
   ]
  },
  {
   "cell_type": "code",
   "execution_count": null,
   "id": "1090b562-c69f-4270-b865-641dc5a2dfbd",
   "metadata": {},
   "outputs": [],
   "source": []
  }
 ],
 "metadata": {
  "kernelspec": {
   "display_name": "Python 3 (ipykernel)",
   "language": "python",
   "name": "python3"
  },
  "language_info": {
   "codemirror_mode": {
    "name": "ipython",
    "version": 3
   },
   "file_extension": ".py",
   "mimetype": "text/x-python",
   "name": "python",
   "nbconvert_exporter": "python",
   "pygments_lexer": "ipython3",
   "version": "3.10.14"
  }
 },
 "nbformat": 4,
 "nbformat_minor": 5
}
